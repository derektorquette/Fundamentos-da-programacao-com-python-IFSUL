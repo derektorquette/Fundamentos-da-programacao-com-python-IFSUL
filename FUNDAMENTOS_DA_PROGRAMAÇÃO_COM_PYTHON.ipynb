{
  "nbformat": 4,
  "nbformat_minor": 0,
  "metadata": {
    "colab": {
      "provenance": [],
      "authorship_tag": "ABX9TyOP/IWpO4+qCMZDcm9AmAIA",
      "include_colab_link": true
    },
    "kernelspec": {
      "name": "python3",
      "display_name": "Python 3"
    },
    "language_info": {
      "name": "python"
    }
  },
  "cells": [
    {
      "cell_type": "markdown",
      "metadata": {
        "id": "view-in-github",
        "colab_type": "text"
      },
      "source": [
        "<a href=\"https://colab.research.google.com/github/derektorquette/Fundamentos-da-programacao-com-python-IFSUL/blob/main/FUNDAMENTOS_DA_PROGRAMA%C3%87%C3%83O_COM_PYTHON.ipynb\" target=\"_parent\"><img src=\"https://colab.research.google.com/assets/colab-badge.svg\" alt=\"Open In Colab\"/></a>"
      ]
    },
    {
      "cell_type": "code",
      "execution_count": null,
      "metadata": {
        "colab": {
          "base_uri": "https://localhost:8080/"
        },
        "id": "jOKER9ZGyH9h",
        "outputId": "9a9edc26-1745-46ca-cab2-d3063f4816fb"
      },
      "outputs": [
        {
          "output_type": "stream",
          "name": "stdout",
          "text": [
            "frase de cima\n"
          ]
        }
      ],
      "source": [
        "print (\"frase de cima\")"
      ]
    },
    {
      "cell_type": "code",
      "source": [
        "print (\"frase de cima\", end = ' ')\n",
        "print (\"frase de baixo\")"
      ],
      "metadata": {
        "colab": {
          "base_uri": "https://localhost:8080/"
        },
        "id": "bwXxPPmoyeqr",
        "outputId": "a820bee1-d25b-4682-c925-ff35df4f7e22"
      },
      "execution_count": null,
      "outputs": [
        {
          "output_type": "stream",
          "name": "stdout",
          "text": [
            "frase de cima frase de baixo\n"
          ]
        }
      ]
    },
    {
      "cell_type": "code",
      "source": [
        "print (\"frase de cima\")\n",
        "print (\"frase de baixo\")"
      ],
      "metadata": {
        "colab": {
          "base_uri": "https://localhost:8080/"
        },
        "id": "HKoXflfvysDc",
        "outputId": "71679abc-848b-475c-de5f-be8d9ee5ac65"
      },
      "execution_count": null,
      "outputs": [
        {
          "output_type": "stream",
          "name": "stdout",
          "text": [
            "frase de cima\n",
            "frase de baixo\n"
          ]
        }
      ]
    },
    {
      "cell_type": "code",
      "source": [
        "print (\"BEM-VINDO!\")"
      ],
      "metadata": {
        "colab": {
          "base_uri": "https://localhost:8080/"
        },
        "id": "mgc7ZmoKy-Aj",
        "outputId": "c6cdf2d5-ab89-4c91-bfa0-e872ae9e8a7e"
      },
      "execution_count": null,
      "outputs": [
        {
          "output_type": "stream",
          "name": "stdout",
          "text": [
            "BEM-VINDO!\n"
          ]
        }
      ]
    },
    {
      "cell_type": "code",
      "source": [
        "Nome = input ('Digie o seu nome: ')\n",
        "print(f'BEM VINDO: {Nome}!')"
      ],
      "metadata": {
        "colab": {
          "base_uri": "https://localhost:8080/"
        },
        "id": "GCwLWyZtzq5C",
        "outputId": "b9882460-3c98-4562-b3a8-47f154a2c753"
      },
      "execution_count": null,
      "outputs": [
        {
          "output_type": "stream",
          "name": "stdout",
          "text": [
            "Digie o seu nome: Derek Torquette\n",
            "BEM VINDO: Derek Torquette!\n"
          ]
        }
      ]
    },
    {
      "cell_type": "code",
      "source": [
        "n1 = int(input('Entre com o primeiro número: '))\n",
        "n2 = int(input('Entre com o segundo número: '))\n",
        "print (f'Soma = {n1+n2}')\n",
        "\n"
      ],
      "metadata": {
        "colab": {
          "base_uri": "https://localhost:8080/"
        },
        "id": "kY8RGzUJ02sH",
        "outputId": "d3c1c76f-07fc-4226-968a-8367ab26052b"
      },
      "execution_count": null,
      "outputs": [
        {
          "output_type": "stream",
          "name": "stdout",
          "text": [
            "Entre com o primeiro número: 10\n",
            "Entre com o segundo número: 10\n",
            "Soma = 20\n"
          ]
        }
      ]
    },
    {
      "cell_type": "code",
      "source": [
        "nome = \"João\"\n",
        "idade = 25\n",
        "\n",
        "# Usando f-string para formatar a string\n",
        "mensagem = f\"Olá, meu nome é {nome} e eu tenho {idade} anos.\"\n",
        "\n",
        "print(mensagem)\n"
      ],
      "metadata": {
        "colab": {
          "base_uri": "https://localhost:8080/"
        },
        "id": "g5dQ_BNl1waa",
        "outputId": "d8ee4c2a-1980-4633-ed56-d9c2ce4845cc"
      },
      "execution_count": null,
      "outputs": [
        {
          "output_type": "stream",
          "name": "stdout",
          "text": [
            "Olá, meu nome é João e eu tenho 25 anos.\n"
          ]
        }
      ]
    },
    {
      "cell_type": "markdown",
      "source": [
        "As f-strings são indicadas pelo prefixo 'f' antes das aspas que delimitam a string e permitem que você insira variáveis, expressões e formatação diretamente dentro das chaves {} dentro da string."
      ],
      "metadata": {
        "id": "3zLJn_8j4aQ3"
      }
    },
    {
      "cell_type": "code",
      "source": [
        "produto = \"bicicleta\"\n",
        "preco = 350.50\n",
        "quantidade = 4\n",
        "\n",
        "# Usando f-string para formatar a string\n",
        "fatura = f\"Você comprou {quantidade} {produto}s por um total de R${preco * quantidade:.2f}.\"\n",
        "\n",
        "print(fatura)\n"
      ],
      "metadata": {
        "colab": {
          "base_uri": "https://localhost:8080/"
        },
        "id": "8FxVrro64_K2",
        "outputId": "fc736ce3-fc60-439a-f8df-c2e45dfe199b"
      },
      "execution_count": null,
      "outputs": [
        {
          "output_type": "stream",
          "name": "stdout",
          "text": [
            "Você comprou 4 bicicletas por um total de R$1402.00.\n"
          ]
        }
      ]
    },
    {
      "cell_type": "markdown",
      "source": [
        "A expressão {preco * quantidade:.2f} calcula o preço total (multiplicação do preço pela quantidade) e, em seguida, formata esse valor como um número de ponto flutuante com duas casas decimais. Isso garante que o preço total seja exibido com precisão até os centavos.\n",
        "\n",
        "- f indica que é uma formatação de ponto flutuante.\n",
        "- .2 especifica o número de casas decimais que devem ser exibidas após o ponto decimal. Neste caso, 2 significa que queremos mostrar duas casas decimais."
      ],
      "metadata": {
        "id": "-L3GmvCV5qTL"
      }
    },
    {
      "cell_type": "code",
      "source": [
        "# como printar cada letra de um nome\n",
        "p = 'Derek'\n",
        "print(p)\n",
        "print(p[0],p[1],p[2],p[3],p[4],sep = '-')\n"
      ],
      "metadata": {
        "colab": {
          "base_uri": "https://localhost:8080/"
        },
        "id": "A-OlevvN6va-",
        "outputId": "69ecb844-c795-4feb-9ba2-34ae70a770da"
      },
      "execution_count": null,
      "outputs": [
        {
          "output_type": "stream",
          "name": "stdout",
          "text": [
            "Derek\n",
            "D-e-r-e-k\n"
          ]
        }
      ]
    },
    {
      "cell_type": "code",
      "source": [
        "# como printar uma lista, neste caso um elemento de uma lista\n",
        "\n",
        "coisas = ['x', 1, 'teste', 3.14, True]\n",
        "print(coisas[4], coisas[2])\n"
      ],
      "metadata": {
        "colab": {
          "base_uri": "https://localhost:8080/"
        },
        "id": "BQ0KosnU74se",
        "outputId": "090cb6fc-0298-4601-d0fd-c4ca1641b7dc"
      },
      "execution_count": null,
      "outputs": [
        {
          "output_type": "stream",
          "name": "stdout",
          "text": [
            "True teste\n"
          ]
        }
      ]
    },
    {
      "cell_type": "markdown",
      "source": [
        "##**Unidade 2.1 - Estrutura condicional (IF - ELIF - ELSE)**"
      ],
      "metadata": {
        "id": "kgczA0Dc5egj"
      }
    },
    {
      "cell_type": "code",
      "source": [
        "n = int(input('Digite o seu número: '))\n",
        "\n",
        "if n < 10:\n",
        "    print('O seu valor é menor que 10')\n",
        "elif n > 10:\n",
        "    print('O seu valor é maior que 10')\n",
        "else:\n",
        "    print('O seu valor é igual a 10')\n"
      ],
      "metadata": {
        "colab": {
          "base_uri": "https://localhost:8080/"
        },
        "id": "Y40Q0ID05w5S",
        "outputId": "173d8156-8135-4c7a-94bb-8e3b664da8b8"
      },
      "execution_count": null,
      "outputs": [
        {
          "output_type": "stream",
          "name": "stdout",
          "text": [
            "Digite o seu número: 10\n",
            "O seu valor é igual a 10\n"
          ]
        }
      ]
    },
    {
      "cell_type": "code",
      "source": [
        "n = 10\n",
        "\n",
        "# o \"f'string'\" nos permite usar a variável dentro da string\n",
        "\n",
        "if n > 5:\n",
        "  print(f'O nosso número {n} é maior que 5!')"
      ],
      "metadata": {
        "id": "bQB9Sv398cHh",
        "colab": {
          "base_uri": "https://localhost:8080/"
        },
        "outputId": "bf81a4a2-648f-4a83-bc56-9818d47761e9"
      },
      "execution_count": null,
      "outputs": [
        {
          "output_type": "stream",
          "name": "stdout",
          "text": [
            "O nosso número 10 é maior que 5!\n"
          ]
        }
      ]
    },
    {
      "cell_type": "code",
      "source": [
        "n = 2\n",
        "\n",
        "# o \"f'string'\" nos permite usar a variável dentro da string\n",
        "\n",
        "if n > 5:\n",
        "  print(f'O nosso número {n} é maior que 5!')\n",
        "else:\n",
        "  print (f'O nosso número {n} é menor que 5!')"
      ],
      "metadata": {
        "colab": {
          "base_uri": "https://localhost:8080/"
        },
        "outputId": "8ccbd3e6-c375-43e4-fa80-75c8224fc96e",
        "id": "503a1sj80h8d"
      },
      "execution_count": null,
      "outputs": [
        {
          "output_type": "stream",
          "name": "stdout",
          "text": [
            "O nosso número 2 é menor que 5!\n"
          ]
        }
      ]
    },
    {
      "cell_type": "code",
      "source": [
        "n = 5\n",
        "\n",
        "# o \"f'string'\" nos permite usar a variável dentro da string\n",
        "#elif = senão se\n",
        "\n",
        "if n > 5:\n",
        "  print(f'O nosso número {n} é maior que 5!')\n",
        "elif n==5:\n",
        "  print(f'O nosso número {n} é igual a 5!')\n",
        "else:\n",
        "  print (f'O nosso número {n} é menor que 5!')"
      ],
      "metadata": {
        "colab": {
          "base_uri": "https://localhost:8080/"
        },
        "outputId": "6ac25c0e-2766-4ed4-906d-1ce2afca8509",
        "id": "sR-1jxtx1Gip"
      },
      "execution_count": null,
      "outputs": [
        {
          "output_type": "stream",
          "name": "stdout",
          "text": [
            "O nosso número 5 é igual a 5!\n"
          ]
        }
      ]
    },
    {
      "cell_type": "code",
      "source": [
        "n = int(input(\"entre com o número inteiro na faixa de 0 a 100: \"))\n",
        "\n",
        "# eu posso colocar \"int\" antes do input ou atribuir \"int\" a variável n, exemplo: n = int(n)\"\n",
        "\n",
        "if n > 5:\n",
        "  print(f'O nosso número {n} é maior que 5!')\n",
        "elif n==5:\n",
        "  print(f'O nosso número {n} é igual a 5!')\n",
        "else:\n",
        "  print (f'O nosso número {n} é menor que 5!')"
      ],
      "metadata": {
        "colab": {
          "base_uri": "https://localhost:8080/"
        },
        "id": "6sVmTTAA2B_i",
        "outputId": "83cbff5b-db3f-443c-f603-67cad2332b3c"
      },
      "execution_count": null,
      "outputs": [
        {
          "output_type": "stream",
          "name": "stdout",
          "text": [
            "entre com o número inteiro na faixa de 0 a 100: 150\n",
            "O nosso número 150 é maior que 5!\n"
          ]
        }
      ]
    },
    {
      "cell_type": "markdown",
      "source": [
        "##**Unidade 2.2 - Estrutura/Laço de reprodução FOR**"
      ],
      "metadata": {
        "id": "9qAAnZMC5ZRk"
      }
    },
    {
      "cell_type": "code",
      "source": [
        "# Laço de repetição \"for\"\n",
        "# o comando \"range\" inicia em 0\n",
        "soma = 0\n",
        "for i in range(11):\n",
        "  print(f'{soma} = {soma} + {i}')\n",
        "  soma = soma + i\n",
        "\n",
        "print(soma)\n"
      ],
      "metadata": {
        "colab": {
          "base_uri": "https://localhost:8080/"
        },
        "id": "HzI7VOUD3LaB",
        "outputId": "2c8b2cd1-4940-405e-d656-1037a6a8f2b2"
      },
      "execution_count": null,
      "outputs": [
        {
          "output_type": "stream",
          "name": "stdout",
          "text": [
            "0 = 0 + 0\n",
            "0 = 0 + 1\n",
            "1 = 1 + 2\n",
            "3 = 3 + 3\n",
            "6 = 6 + 4\n",
            "10 = 10 + 5\n",
            "15 = 15 + 6\n",
            "21 = 21 + 7\n",
            "28 = 28 + 8\n",
            "36 = 36 + 9\n",
            "45 = 45 + 10\n",
            "55\n"
          ]
        }
      ]
    },
    {
      "cell_type": "code",
      "source": [
        "# Laço de repetição \"for\"\n",
        "# o comando \"range\" inicia em 0\n",
        "\n",
        "n = int(input('Número final da soma: '))\n",
        "soma = 0\n",
        "for i in range(11):\n",
        "  print(f'{soma} = {soma} + {i}')\n",
        "  soma = soma + i\n",
        "\n",
        "print(soma)\n"
      ],
      "metadata": {
        "colab": {
          "base_uri": "https://localhost:8080/"
        },
        "outputId": "bd9aeb41-faf9-4166-cfb0-a39cdfa1b4d2",
        "id": "XZrWiLsV4rLG"
      },
      "execution_count": null,
      "outputs": [
        {
          "output_type": "stream",
          "name": "stdout",
          "text": [
            "Número final da soma: 4\n",
            "0 = 0 + 0\n",
            "0 = 0 + 1\n",
            "1 = 1 + 2\n",
            "3 = 3 + 3\n",
            "6 = 6 + 4\n",
            "10 = 10 + 5\n",
            "15 = 15 + 6\n",
            "21 = 21 + 7\n",
            "28 = 28 + 8\n",
            "36 = 36 + 9\n",
            "45 = 45 + 10\n",
            "55\n"
          ]
        }
      ]
    },
    {
      "cell_type": "markdown",
      "source": [
        "##**Unidade 2.3 - Estrutura de reprodução WHILE**"
      ],
      "metadata": {
        "id": "uGvsQE8O5jHC"
      }
    },
    {
      "cell_type": "code",
      "source": [
        "n = 1\n",
        "\n",
        "# nessa estrutura o print se repete enquanto o laço estiver repetindo\n",
        "\n",
        "while n < 5:\n",
        "  print(f'O valor de n é: {n}.')\n",
        "  n = n + 1\n",
        "\n",
        "  print('Fim do laço de repetição!')"
      ],
      "metadata": {
        "colab": {
          "base_uri": "https://localhost:8080/"
        },
        "id": "Mko3fmo99Hel",
        "outputId": "07345b8a-93d6-484a-9eea-8caaa10791e1"
      },
      "execution_count": null,
      "outputs": [
        {
          "output_type": "stream",
          "name": "stdout",
          "text": [
            "O valor de n é: 1.\n",
            "Fim do laço de repetição!\n",
            "O valor de n é: 2.\n",
            "Fim do laço de repetição!\n",
            "O valor de n é: 3.\n",
            "Fim do laço de repetição!\n",
            "O valor de n é: 4.\n",
            "Fim do laço de repetição!\n"
          ]
        }
      ]
    },
    {
      "cell_type": "code",
      "source": [
        "n = 1\n",
        "\n",
        "# nessa estrutura o print se repete quando o laço terminar de se repetir\n",
        "\n",
        "while n < 5:\n",
        "  print(f'O valor de n é: {n}.')\n",
        "  n = n + 1\n",
        "\n",
        "print('Fim do laço de repetição!')"
      ],
      "metadata": {
        "colab": {
          "base_uri": "https://localhost:8080/"
        },
        "outputId": "cb3bf4d2-4715-4c8a-8f34-08159161c02a",
        "id": "fOpUjh2s92Hn"
      },
      "execution_count": null,
      "outputs": [
        {
          "output_type": "stream",
          "name": "stdout",
          "text": [
            "O valor de n é: 1.\n",
            "O valor de n é: 2.\n",
            "O valor de n é: 3.\n",
            "O valor de n é: 4.\n",
            "Fim do laço de repetição!\n"
          ]
        }
      ]
    },
    {
      "cell_type": "code",
      "source": [
        "senha = 0000\n",
        "\n",
        "while senha != 1234:\n",
        "  senha = int(input('Informe a sua senha (4 dígitos): '))\n",
        "\n",
        "\n",
        "\n",
        "  if senha == 1234:\n",
        "    print('SENHA CORRETA! ACESSO LIBERADO!!!')\n",
        "  else:\n",
        "    print('SENHA INCORRETA! ACESSO NEGADO!!!')\n"
      ],
      "metadata": {
        "colab": {
          "base_uri": "https://localhost:8080/"
        },
        "id": "fN4A8KeC-NVR",
        "outputId": "f3bc44d4-e1e4-4e8f-9971-b99e507a7c22"
      },
      "execution_count": null,
      "outputs": [
        {
          "output_type": "stream",
          "name": "stdout",
          "text": [
            "Informe a sua senha (4 dígitos): 1245\n",
            "SENHA INCORRETA! ACESSO NEGADO!!!\n",
            "Informe a sua senha (4 dígitos): 1234\n",
            "SENHA CORRETA! ACESSO LIBERADO!!!\n"
          ]
        }
      ]
    },
    {
      "cell_type": "code",
      "source": [
        "n = 3\n",
        "while n < 6:\n",
        "  n=n+1\n",
        "print('O curso de python')"
      ],
      "metadata": {
        "colab": {
          "base_uri": "https://localhost:8080/"
        },
        "id": "weG26XU8BFNQ",
        "outputId": "a38b4251-5b0a-4b0f-87ca-81039d3bc1a4"
      },
      "execution_count": null,
      "outputs": [
        {
          "output_type": "stream",
          "name": "stdout",
          "text": [
            "O curso de python\n"
          ]
        }
      ]
    },
    {
      "cell_type": "code",
      "source": [
        "n = 10\n",
        "\n",
        "nums = [1, 2, 3, 4, 5, 6, 7, 8 ,9, 10]\n",
        "\n",
        "for i in range (3,7):\n",
        "  print(nums[i])"
      ],
      "metadata": {
        "colab": {
          "base_uri": "https://localhost:8080/"
        },
        "id": "4tw4qymqDGS7",
        "outputId": "7ae68d31-f20f-4bde-b0d7-261600dab048"
      },
      "execution_count": null,
      "outputs": [
        {
          "output_type": "stream",
          "name": "stdout",
          "text": [
            "4\n",
            "5\n",
            "6\n",
            "7\n"
          ]
        }
      ]
    },
    {
      "cell_type": "code",
      "source": [
        "frutas = ['banana', 'maça', 'laranja', 'abacaxi', 'cereja']\n",
        "for f in range(2, len(frutas)):\n",
        "  print(frutas[f])"
      ],
      "metadata": {
        "colab": {
          "base_uri": "https://localhost:8080/"
        },
        "id": "WWb4tbgkD-x-",
        "outputId": "0e076a1e-cba1-457b-f1ef-633fab87498c"
      },
      "execution_count": null,
      "outputs": [
        {
          "output_type": "stream",
          "name": "stdout",
          "text": [
            "laranja\n",
            "abacaxi\n",
            "cereja\n"
          ]
        }
      ]
    },
    {
      "cell_type": "markdown",
      "source": [
        "##c. O laço for é aqui de iteração definida e o laço while é aqui de iteração indefinida.\n",
        "\n",
        "No laço for, você sabe exatamente quantas vezes o bloco de código será executado, pois ele itera sobre uma sequência de elementos.\n",
        "\n",
        "Já no laço while, a condição é verificada antes de cada iteração do bloco de código. Enquanto a condição for verdadeira, o bloco de código é executado. Portanto, a quantidade de iterações pode ser indefinida, dependendo da condição estabelecida."
      ],
      "metadata": {
        "id": "SaHIopCHDpCH"
      }
    },
    {
      "cell_type": "markdown",
      "source": [
        "##Unidade 3.1 - Listas - **são mutaveis** - utiliza-se **COLCHETES [_]**"
      ],
      "metadata": {
        "id": "QsYffrDhseDW"
      }
    },
    {
      "cell_type": "code",
      "source": [
        "# exemplo de lista. Sempre o endereço de uma lista começa com zero\n",
        "\n",
        "l1 = [2, 4, 6, 8, 10]\n",
        "\n",
        "print(l1[2])\n",
        "\n",
        "\n"
      ],
      "metadata": {
        "colab": {
          "base_uri": "https://localhost:8080/"
        },
        "id": "sEqMgCawsnr4",
        "outputId": "277241c3-207c-4bdc-874e-5f5c9bdaf030"
      },
      "execution_count": null,
      "outputs": [
        {
          "output_type": "stream",
          "name": "stdout",
          "text": [
            "6\n"
          ]
        }
      ]
    },
    {
      "cell_type": "code",
      "source": [
        "# exemplo de lista. Sempre o endereço de uma lista começa com zero\n",
        "\n",
        "l1 = [2, 4, 6, 8, 10]\n",
        "\n",
        "for i in range(len(l1)):\n",
        "\n",
        " print (l1[i])\n",
        "\n",
        " # o print precisa estar endentado dentro do \"for\"\n"
      ],
      "metadata": {
        "colab": {
          "base_uri": "https://localhost:8080/"
        },
        "id": "RWBy5Z8jRrVc",
        "outputId": "1a54e2df-6452-44e6-d9a5-ff3debc9b8e8"
      },
      "execution_count": null,
      "outputs": [
        {
          "output_type": "stream",
          "name": "stdout",
          "text": [
            "2\n",
            "4\n",
            "6\n",
            "8\n",
            "10\n"
          ]
        }
      ]
    },
    {
      "cell_type": "code",
      "source": [
        "# exemplo de lista enumerada\n",
        "\n",
        "l1 = [2, 4, 6, 8, 10]\n",
        "\n",
        "for i in range(len(l1)):\n",
        "\n",
        " print (f'O {i + 1}º elemento da lista é {l1[i]}')\n",
        "\n",
        " # Enumerar os elementos de uma lista \""
      ],
      "metadata": {
        "colab": {
          "base_uri": "https://localhost:8080/"
        },
        "id": "WuFEaq81SUUM",
        "outputId": "efe815d1-2b01-4765-eb20-5c4858a8c357"
      },
      "execution_count": null,
      "outputs": [
        {
          "output_type": "stream",
          "name": "stdout",
          "text": [
            "O 1º elemento da lista é 2\n",
            "O 2º elemento da lista é 4\n",
            "O 3º elemento da lista é 6\n",
            "O 4º elemento da lista é 8\n",
            "O 5º elemento da lista é 10\n"
          ]
        }
      ]
    },
    {
      "cell_type": "markdown",
      "source": [
        "##Unidade 3.2 - Tuplas - **são imutáveis - utiliza-se parênteses (_)**"
      ],
      "metadata": {
        "id": "7RSgfghuTdsB"
      }
    },
    {
      "cell_type": "code",
      "source": [
        "# a tupla também começa pelo zero\n",
        "# mesmo a tupla utilizando parêntese, para acessar o índice usamos colchetes [_]\n",
        "\n",
        "\n",
        "t1 = (3,5,7,2)\n",
        "print (t1[3])"
      ],
      "metadata": {
        "colab": {
          "base_uri": "https://localhost:8080/"
        },
        "id": "wcgzbpZoUOES",
        "outputId": "fbf2cb4d-965d-44c6-bdfd-65abd1358bac"
      },
      "execution_count": null,
      "outputs": [
        {
          "output_type": "stream",
          "name": "stdout",
          "text": [
            "2\n"
          ]
        }
      ]
    },
    {
      "cell_type": "code",
      "source": [
        "l1 = [3, 4, 5, 1, 7]\n",
        "t1 = (23, 24, 21, 42)\n",
        "print(t1[0])\n",
        "print(l1[1])\n",
        "\n"
      ],
      "metadata": {
        "colab": {
          "base_uri": "https://localhost:8080/"
        },
        "id": "G3jqzKhsU-aq",
        "outputId": "923ee5ab-79cd-4f37-fd51-7f044f05e976"
      },
      "execution_count": null,
      "outputs": [
        {
          "output_type": "stream",
          "name": "stdout",
          "text": [
            "23\n",
            "4\n"
          ]
        }
      ]
    },
    {
      "cell_type": "markdown",
      "source": [
        "##Unidade 3.3 - Dicionários - **OS ELEMENTOS PODEM SER ARMAZENADOS EM PARES** - são declaros entre chaves {_}"
      ],
      "metadata": {
        "id": "d8gi4jrkWhRG"
      }
    },
    {
      "cell_type": "code",
      "source": [
        "capitais = {'RS': 'Porto Alegre', 'PR': 'Curitiba', 'SC' : 'Florianópolis'}\n",
        "n_habit = {'RS': 1500000, 'PR': 1900000, 'SC':510000}\n",
        "\n",
        "for k in capitais:\n",
        "  print (f'A cidade de {capitais[k]} possui {n_habit[k]} habitantes!')\n",
        "\n"
      ],
      "metadata": {
        "colab": {
          "base_uri": "https://localhost:8080/"
        },
        "id": "y3OrgvdhWjSJ",
        "outputId": "a7ddee34-d47e-48cb-a126-0e703f52de51"
      },
      "execution_count": null,
      "outputs": [
        {
          "output_type": "stream",
          "name": "stdout",
          "text": [
            "A cidade de Porto Alegre possui 1500000 habitantes!\n",
            "A cidade de Curitiba possui 1900000 habitantes!\n",
            "A cidade de Florianópolis possui 510000 habitantes!\n"
          ]
        }
      ]
    },
    {
      "cell_type": "code",
      "source": [
        "# é muito comum usar uma tupla para criar uma chave de um dicionário\n",
        "\n",
        "tkeys =('Nome', 'Idade', 'Sexo', 'Peso', 'Altura') # essa tupla cria a chave para o dicionário\n",
        "\n",
        "cliente1 = {tkeys[0]: 'Luis Fernando da Silva', tkeys[1]: 35, tkeys[2]: 'M', tkeys[3]: 87, tkeys[4]: 1.92}  # usei a mesma chave para os dois dicionários\n",
        "cliente2 = {tkeys[0]: 'Sandro Almeida', tkeys[1]: 22, tkeys[2]: \"M\", tkeys[3]: 68, tkeys[4]: 1.68}\n",
        "\n",
        "print(cliente1['Nome'])\n",
        "print(cliente2[tkeys[4]])\n",
        "\n",
        "print('O cliente 2', cliente2[tkeys[0]], 'possui o peso de', cliente2[tkeys[3]], 'kg!')\n"
      ],
      "metadata": {
        "colab": {
          "base_uri": "https://localhost:8080/"
        },
        "id": "UaXEx0sPYPJa",
        "outputId": "5b33e844-cb56-4a51-e6df-a4c5427bccb4"
      },
      "execution_count": null,
      "outputs": [
        {
          "output_type": "stream",
          "name": "stdout",
          "text": [
            "Luis Fernando da Silva\n",
            "1.68\n",
            "O cliente 2 Sandro Almeida possui o peso de 68 kg!\n"
          ]
        }
      ]
    },
    {
      "cell_type": "code",
      "source": [],
      "metadata": {
        "id": "EUk0JGOAbp4w"
      },
      "execution_count": null,
      "outputs": []
    },
    {
      "cell_type": "markdown",
      "source": [
        "##Unidade 3.4 - Conjuntos - **NÃO POSSUI ELEMENTOS REPETIDOS** - também são declarados entre chaves {_}"
      ],
      "metadata": {
        "id": "Xwg3MnS7bJDY"
      }
    },
    {
      "cell_type": "code",
      "source": [
        "l1 = [3, 0, 5, 6, 6, 5]\n",
        "cj = set(l1)\n",
        "\n",
        "print(cj) # os elementos da lista não serão repetidos"
      ],
      "metadata": {
        "colab": {
          "base_uri": "https://localhost:8080/"
        },
        "id": "zP8RBrumbUzX",
        "outputId": "b8387354-c3fc-404e-d19b-18d00fdb0889"
      },
      "execution_count": null,
      "outputs": [
        {
          "output_type": "stream",
          "name": "stdout",
          "text": [
            "{0, 3, 5, 6}\n"
          ]
        }
      ]
    },
    {
      "cell_type": "code",
      "source": [
        "# União entre conjuntos\n",
        "\n",
        "cj1 = {3, 2, 5, 6, 7}\n",
        "cj2 = {3, 3, 5, 9, 10}\n",
        "\n",
        "#print ('União:', cj1.union(cj2)) - pode ser utlizado das duas formas\n",
        "print ('União:', cj1 | cj2)"
      ],
      "metadata": {
        "colab": {
          "base_uri": "https://localhost:8080/"
        },
        "id": "NtxTWHy2cBiu",
        "outputId": "a6c51d8d-b45e-4b6c-856f-170e4d7217ff"
      },
      "execution_count": null,
      "outputs": [
        {
          "output_type": "stream",
          "name": "stdout",
          "text": [
            "União: {2, 3, 5, 6, 7, 9, 10}\n"
          ]
        }
      ]
    },
    {
      "cell_type": "code",
      "source": [
        "# Intersecção entre conjuntos\n",
        "\n",
        "cj1 = {3, 2, 5, 6, 7, 12}\n",
        "cj2 = {3, 3, 5, 9, 10, 12}\n",
        "\n",
        "#print ('Intersecção:', cj1.intersection(cj2)) - pode ser utlizado das duas formas\n",
        "print ('Intersecção:', cj1 & cj2)"
      ],
      "metadata": {
        "colab": {
          "base_uri": "https://localhost:8080/"
        },
        "id": "w7IssuridQlA",
        "outputId": "8cfdcd48-c2f9-4794-f071-a5cd93eae1a6"
      },
      "execution_count": null,
      "outputs": [
        {
          "output_type": "stream",
          "name": "stdout",
          "text": [
            "Intersecção: {3, 12, 5}\n"
          ]
        }
      ]
    },
    {
      "cell_type": "code",
      "source": [
        "# Diferença entre conjuntos\n",
        "\n",
        "cj1 = {3, 2, 5, 6, 7, 12}\n",
        "cj2 = {3, 3, 5, 9, 10, 12}\n",
        "\n",
        "print ('Diferença:', cj1.difference(cj2))"
      ],
      "metadata": {
        "colab": {
          "base_uri": "https://localhost:8080/"
        },
        "id": "O7qJMW0QdrY_",
        "outputId": "8017648b-715f-49ab-e59e-dec045b8495f"
      },
      "execution_count": null,
      "outputs": [
        {
          "output_type": "stream",
          "name": "stdout",
          "text": [
            "Diferença: {2, 6, 7}\n"
          ]
        }
      ]
    },
    {
      "cell_type": "code",
      "source": [
        "menores = {'José', 'Raul', 'Rodrigo'}\n",
        "maiores = {'Vini', 'Soneca', 'Geleia'}\n",
        "basquete = {'Rodrigo', 'Geleia'}\n",
        "futebol = {'Vini', 'José'}\n",
        "\n",
        "\n",
        "print('Todos os Alunos:', menores | maiores)\n",
        "print()\n",
        "print('Todos que praticam algum esporte:', basquete | futebol)\n",
        "\n"
      ],
      "metadata": {
        "colab": {
          "base_uri": "https://localhost:8080/"
        },
        "id": "VWA6gWbwe8sI",
        "outputId": "25c61cab-c408-4d15-acc1-a5071d530c4a"
      },
      "execution_count": null,
      "outputs": [
        {
          "output_type": "stream",
          "name": "stdout",
          "text": [
            "Todos os Alunos: {'Soneca', 'Raul', 'José', 'Rodrigo', 'Geleia', 'Vini'}\n",
            "\n",
            "Todos que praticam algum esporte: {'Geleia', 'Rodrigo', 'Vini', 'José'}\n"
          ]
        }
      ]
    },
    {
      "cell_type": "code",
      "source": [
        "tup1 = (1, 2, 3, 5, 6, 1, 10, 1, 1, 9)\n",
        "\n",
        "i = tup1.index(1)\n",
        "\n",
        "c = tup1.count(1)\n",
        "\n",
        "print(i, c)"
      ],
      "metadata": {
        "colab": {
          "base_uri": "https://localhost:8080/"
        },
        "id": "qSgqmW8CiXI_",
        "outputId": "4c7d1d69-143d-4e5a-b6c3-ebd75820d003"
      },
      "execution_count": null,
      "outputs": [
        {
          "output_type": "stream",
          "name": "stdout",
          "text": [
            "0 4\n"
          ]
        }
      ]
    },
    {
      "cell_type": "markdown",
      "source": [
        "##**Módulo 4 – Funções, Bibliotecas e Arquivos**\n",
        "\n",
        "**Unidade 4.1 - Funções**"
      ],
      "metadata": {
        "id": "F8LPJ90miyFI"
      }
    },
    {
      "cell_type": "code",
      "source": [
        "def imprimir(s):\n",
        "    print(f'Executando uma funçao com o argumento {s}!!!')\n",
        "\n",
        "imprimir('teste') #este é o argumento"
      ],
      "metadata": {
        "colab": {
          "base_uri": "https://localhost:8080/"
        },
        "id": "J2pIhSH3i2Ou",
        "outputId": "a4367aaf-dccc-4e18-c30e-5d2e19e8746a"
      },
      "execution_count": null,
      "outputs": [
        {
          "output_type": "stream",
          "name": "stdout",
          "text": [
            "Executando uma funçao com o argumento teste!!!\n"
          ]
        }
      ]
    },
    {
      "cell_type": "code",
      "source": [
        "def soma(a, b):\n",
        "    print('soma =', a + b)\n",
        "soma(3, 5)"
      ],
      "metadata": {
        "colab": {
          "base_uri": "https://localhost:8080/"
        },
        "id": "dw9d9xY0kLRH",
        "outputId": "8a525d22-0d4d-43cd-8f68-cc81d952f682"
      },
      "execution_count": null,
      "outputs": [
        {
          "output_type": "stream",
          "name": "stdout",
          "text": [
            "soma = 8\n"
          ]
        }
      ]
    },
    {
      "cell_type": "code",
      "source": [
        "def soma(a, b):\n",
        "  return a + b\n",
        "\n",
        "s = soma(2,7)\n",
        "\n",
        "print(f'soma = {s}')"
      ],
      "metadata": {
        "colab": {
          "base_uri": "https://localhost:8080/"
        },
        "id": "83iwX-bQnSYg",
        "outputId": "93d88146-6074-41c5-9f6e-919c6f0a8299"
      },
      "execution_count": null,
      "outputs": [
        {
          "output_type": "stream",
          "name": "stdout",
          "text": [
            "soma = 9\n"
          ]
        }
      ]
    },
    {
      "cell_type": "markdown",
      "source": [
        "##**Unidade 4.2 - Bibliotecas** - São funções feitas por outros programadores\n",
        "\n",
        "'import X'"
      ],
      "metadata": {
        "id": "AUwPmZa_nv3o"
      }
    },
    {
      "cell_type": "markdown",
      "source": [
        "##**Unidade 4.3 - Criação e manipulação de arquivos**"
      ],
      "metadata": {
        "id": "alLVbd36-_hM"
      }
    },
    {
      "cell_type": "code",
      "source": [
        "def dobra_numero (n):\n",
        "    n = n * 2\n",
        "    return n\n",
        "\n",
        "d = dobra_numero(6)\n",
        "\n",
        "print(d)\n"
      ],
      "metadata": {
        "id": "uKUIJs4anvMe",
        "colab": {
          "base_uri": "https://localhost:8080/"
        },
        "outputId": "c62bb92f-4f93-4724-9295-a279781a87b8"
      },
      "execution_count": null,
      "outputs": [
        {
          "output_type": "stream",
          "name": "stdout",
          "text": [
            "12\n"
          ]
        }
      ]
    },
    {
      "cell_type": "markdown",
      "source": [
        "##Unidade 5.1 - Proposta de projetos com Python (conteúdo complementar)"
      ],
      "metadata": {
        "id": "em_DSU9NID-q"
      }
    }
  ]
}